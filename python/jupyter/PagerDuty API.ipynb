{
  "cells": [
    {
      "cell_type": "markdown",
      "id": "22b7aa1b-3ac0-469f-b185-078f818eb865",
      "metadata": {
        "id": "22b7aa1b-3ac0-469f-b185-078f818eb865"
      },
      "source": [
        "## Welcome!\n",
        "\n",
        "This guide will give you some sense of the features and resources in the PagerDuty API, using the `pagerduty` Python library.\n",
        "\n",
        "To use this guide, you will need:\n",
        "* A PagerDuty account, with access to at least one [service](https://support.pagerduty.com/main/docs/service-profile), [team](https://support.pagerduty.com/main/docs/teams), [escalation policy](https://support.pagerduty.com/main/docs/escalation-policies), and [oncall schedule](https://support.pagerduty.com/main/docs/schedule-basics). If you don't have a PagerDuty account, you can sign up for a [trial](https://www.pagerduty.com/sign-up/) or a [developer account](https://developer.pagerduty.com/sign-up/), depending on your goals.\n",
        "* An [API key](https://support.pagerduty.com/main/docs/api-access-keys) to access your PagerDuty account via the API.\n",
        "* A working Python3 environment."
      ]
    },
    {
      "cell_type": "markdown",
      "id": "64a47215-b80e-461b-8177-b91a2a7098f3",
      "metadata": {
        "id": "64a47215-b80e-461b-8177-b91a2a7098f3"
      },
      "source": [
        "### Get Started\n",
        "\n",
        "Install the `pagerduty` Python package in your environment.\n",
        "If you are using Anaconda, activate your envrionment first, or create a new environment for your PagerDuty work.\n",
        "\n",
        "`pip install pagerduty`\n",
        "\n",
        "The `pagerduty` Python package is maintained by folks at PagerDuty. You can find the project at [Github](https://github.com/PagerDuty/python-pagerduty) and the docs in the [user guide](https://pagerduty.github.io/python-pagerduty/user_guide.html).\n"
      ]
    },
    {
      "cell_type": "code",
      "execution_count": null,
      "id": "be0095f7-bf7b-4177-ab4c-6c6b989170be",
      "metadata": {
        "id": "be0095f7-bf7b-4177-ab4c-6c6b989170be"
      },
      "outputs": [],
      "source": [
        "!pip install pagerduty"
      ]
    },
    {
      "cell_type": "code",
      "execution_count": null,
      "id": "a019c6ce-d30a-424e-9753-a27cc9af261d",
      "metadata": {
        "id": "a019c6ce-d30a-424e-9753-a27cc9af261d"
      },
      "outputs": [],
      "source": [
        "import pagerduty as pd"
      ]
    },
    {
      "cell_type": "markdown",
      "id": "69354147-0c40-4de0-8278-4b24955e164c",
      "metadata": {
        "id": "69354147-0c40-4de0-8278-4b24955e164c"
      },
      "source": [
        "### Session and Keys\n",
        "\n",
        "To work with the PagerDuty REST API you'll need an **API Access Key**.  If you've never created a key on your PagerDuty account, please read the documentation [here](https://support.pagerduty.com/main/docs/api-access-keys).\n",
        "\n",
        "There are two types of API Access Keys:\n",
        "* *General Access*: These keys are account-global, and can access all objects in a PagerDuty account. They must be created by an account Admin or Account Owner.\n",
        "* *User Token*: These keys are linked to a specific user login, and will have access only to the objects that user account has access to. Any requests the user isn't permitted to make will have a `403 Forbidden` response.\n",
        "* *OAuth tokens*: These are generally for integrations and applications, see the [docs](https://developer.pagerduty.com/docs/register-an-app) for more info on how to set up your custom integration.\n",
        "\n",
        "\n",
        "Initialize the session and authentication."
      ]
    },
    {
      "cell_type": "code",
      "execution_count": null,
      "id": "c638af06-a3f1-4dd1-993c-3823036df5a5",
      "metadata": {
        "id": "c638af06-a3f1-4dd1-993c-3823036df5a5"
      },
      "outputs": [],
      "source": [
        "api_token = \"ADD YOUR KEY HERE\"\n",
        "\n",
        "session = pd.RestApiV2Client(api_token)"
      ]
    },
    {
      "cell_type": "markdown",
      "id": "a0c2a939-7a75-4b1b-bf89-14ac7c466371",
      "metadata": {
        "id": "a0c2a939-7a75-4b1b-bf89-14ac7c466371"
      },
      "source": [
        "### European Service Region\n",
        "<p style=\"background:yellow;color:black\">If your account is in the EU region, uncomment the next line:</p>"
      ]
    },
    {
      "cell_type": "code",
      "execution_count": null,
      "id": "3a17b1aa-64f2-440d-8bbc-ca33d54233d9",
      "metadata": {
        "id": "3a17b1aa-64f2-440d-8bbc-ca33d54233d9"
      },
      "outputs": [],
      "source": [
        "# client.url = \"https://api.eu.pagerduty.com"
      ]
    },
    {
      "cell_type": "markdown",
      "id": "cf5220b4-bbf7-4747-808f-ff1b3d531ecc",
      "metadata": {
        "id": "cf5220b4-bbf7-4747-808f-ff1b3d531ecc"
      },
      "source": [
        "### Make Your First Request - Get a Service\n",
        "\n",
        "First, we are going to request a service, which will give us some other object IDs to investigate. The API endpoint `/services` has a number of options, but we're going to use `limit=1` to just show one service.\n",
        "\n",
        "When we access the data in the results, we'll still need to account for the data being in an array.\n",
        "\n",
        "For more on the `/services` endpoint, see the documentation [here](https://developer.pagerduty.com/api-reference/e960cca205c0f-list-services)."
      ]
    },
    {
      "cell_type": "code",
      "execution_count": null,
      "id": "e468ea14-6485-43bc-ac83-66136414deaf",
      "metadata": {
        "id": "e468ea14-6485-43bc-ac83-66136414deaf"
      },
      "outputs": [],
      "source": [
        "results = session.rget('/services?limit=1')\n",
        "\n",
        "my_service = results[0]\n",
        "my_service"
      ]
    },
    {
      "cell_type": "markdown",
      "id": "04d9abd5-0116-487b-83e7-7036059aba89",
      "metadata": {
        "id": "04d9abd5-0116-487b-83e7-7036059aba89"
      },
      "source": [
        "You can see the full structure of a single service.\n",
        "\n",
        "\n",
        "> When we use the pagerduty library's `rget` method, it will take care of serializing the payload into an object that we can reference, without having to explicitly load the JSON string. You can immediately access the keys using `object[\"key\"]` notation. You can also the `get` method or the `jget` method. See the docs for more details. If you use a general purpose HTTP library, you'll need to load the JSON into an addressable object yourself.\n",
        "\n",
        "\n",
        "In the payload are some important things to look out for:\n",
        "\n",
        "* `id`: every object in the PagerDuty REST API has an ID associated with it. These are short alphanumeric strings, many of which will start with a capital `P`.\n",
        "* `name`: The human-readable name of the object.\n",
        "* `description`, or, sometimes `summary`: The description entered for this object.\n",
        "* `type`: the object type of the object. These will often point you to what other objects you can query to gather more information.\n",
        "\n",
        "Let's use this first service as a start to look at other interesting and related objects. We can parse out some pieces from the JSON and use those."
      ]
    },
    {
      "cell_type": "code",
      "execution_count": null,
      "id": "24ff1959-a00f-4102-a2d0-045ef508721d",
      "metadata": {
        "id": "24ff1959-a00f-4102-a2d0-045ef508721d"
      },
      "outputs": [],
      "source": [
        "service_id = my_service['id']\n",
        "service_id"
      ]
    },
    {
      "cell_type": "markdown",
      "id": "33d13148-79c7-443e-a064-5761948a38b5",
      "metadata": {
        "id": "33d13148-79c7-443e-a064-5761948a38b5"
      },
      "source": [
        "### Get a Team and its Members\n",
        "\n",
        "First, let's look at `/teams`. The `teams` key in our service object is a top-level key, and has a sub-key `id` that we can use to get more information from the API about the team that owns this service.\n",
        "\n",
        "In the `service` object, the `teams` key also contains an array, though you might not see any services with more than one owning team. When working with the PagerDuty REST API, keep an eye on the structure of the data returned, since there will be many parts that can have multiple values!"
      ]
    },
    {
      "cell_type": "code",
      "execution_count": null,
      "id": "9453045d-9e91-4633-b556-1ed1685bdb05",
      "metadata": {
        "id": "9453045d-9e91-4633-b556-1ed1685bdb05"
      },
      "outputs": [],
      "source": [
        "my_team = my_service['teams'][0]['id']\n",
        "my_team"
      ]
    },
    {
      "cell_type": "markdown",
      "id": "ab05b320-3c8a-42b5-bf97-4f1970d8e817",
      "metadata": {
        "id": "ab05b320-3c8a-42b5-bf97-4f1970d8e817"
      },
      "source": [
        "Many of the objects in the PagerDuty REST API have two ways to get basic information - the main `/objects` endpoint, which will return a list of all the objects in the account: `/incidents`, `/services`, `/teams`, etc.\n",
        "\n",
        "If you know the `id` of an individual object, you can often use the same endpoint to request just that instance - `/incidents/{id}`, `/services/{id}`, `/teams/{id}`. You'll see these two options listed in the documentation for the objects that support them.\n",
        "\n",
        "\n",
        "For more info on the `/teams` endpoint, see the documentation [here](https://developer.pagerduty.com/api-reference/1c8181e57cc60-get-a-team)."
      ]
    },
    {
      "cell_type": "code",
      "execution_count": null,
      "id": "e3f6c572-03e4-41c8-a38b-26a95fef4f88",
      "metadata": {
        "id": "e3f6c572-03e4-41c8-a38b-26a95fef4f88"
      },
      "outputs": [],
      "source": [
        "team_object = session.rget(f\"/teams/{my_team}\")\n",
        "team_object"
      ]
    },
    {
      "cell_type": "markdown",
      "id": "42d2e027-269e-4469-ab0c-c29b7ef86e51",
      "metadata": {
        "id": "42d2e027-269e-4469-ab0c-c29b7ef86e51"
      },
      "source": [
        "In these results, we can see the summary data of the team that owns the service returned above. If we want to see the members of that team, we need to add `/members` to the endpoint:"
      ]
    },
    {
      "cell_type": "code",
      "execution_count": null,
      "id": "5585f31c-9181-4dd3-bfc9-63bc15e922fe",
      "metadata": {
        "id": "5585f31c-9181-4dd3-bfc9-63bc15e922fe"
      },
      "outputs": [],
      "source": [
        "team_members = session.rget(f\"/teams/{my_team}/members\")\n",
        "team_members"
      ]
    },
    {
      "cell_type": "markdown",
      "id": "0c15e814-9d4b-4943-9af5-8b9dbfd32427",
      "metadata": {
        "id": "0c15e814-9d4b-4943-9af5-8b9dbfd32427"
      },
      "source": [
        "<div class=\"alert alert-block alert-info\">\n",
        "Note that every user has their own unique `id` in PagerDuty, just like any other object!\n",
        "</div>\n",
        "\n",
        "Other interesting things in the team members objects:\n",
        "* `self`: you'll see this on every return, so you can access an individual object that might be contained in the results.\n",
        "* `html_url`: the URL in the web UI for this object. Helpful if you are referencing pages back and forth from UI to API."
      ]
    },
    {
      "cell_type": "markdown",
      "id": "3aed5e6d-4157-4aed-9e28-1cdb78ef5494",
      "metadata": {
        "id": "3aed5e6d-4157-4aed-9e28-1cdb78ef5494"
      },
      "source": [
        "Now we have two ways we can request objects from the original `service` JSON object - we can access the `id`s of other objects included in the results, and we can use the `self` urls.\n",
        "\n",
        "### Get an Escalation Policy\n",
        "\n",
        "Let's get the `escalation_policy` associated with the original `service`.  See the `escalation_policy` [docs](https://developer.pagerduty.com/api-reference/3db5a206585e1-get-an-escalation-policy) for more details on Escalation Policy actions."
      ]
    },
    {
      "cell_type": "code",
      "execution_count": null,
      "id": "80891d54-6e1d-46aa-8f93-7366093a75bf",
      "metadata": {
        "id": "80891d54-6e1d-46aa-8f93-7366093a75bf"
      },
      "outputs": [],
      "source": [
        "my_escalation_policy_id = my_service['escalation_policy']['id']\n",
        "my_escalation_policy_id"
      ]
    },
    {
      "cell_type": "code",
      "execution_count": null,
      "id": "e5eb76a4-cc15-42d3-b2df-1c9566af9e51",
      "metadata": {
        "id": "e5eb76a4-cc15-42d3-b2df-1c9566af9e51"
      },
      "outputs": [],
      "source": [
        "my_escalation_policy_object = session.rget(f\"/escalation_policies/{my_escalation_policy_id}\")\n",
        "my_escalation_policy_object"
      ]
    },
    {
      "cell_type": "markdown",
      "id": "9115daee-c592-4b2b-b9f3-ce1caff3e7e9",
      "metadata": {
        "id": "9115daee-c592-4b2b-b9f3-ce1caff3e7e9"
      },
      "source": [
        "We can see from this output that an `escalation_policy` is a fairly large compound object - it's comprised of a number of other objects that represent the responders included in the escalation policy as well as the rules that govern how they should be notified.\n",
        "\n",
        "Depending on how the escalation policy is configured, you might see some sub-objects like users, defined by a `user_reference` or an on-call schedule, defined as a `schedule_reference`. When you are looking at compound objects and you're not sure exactly what is in the data, look for the `type` entries to give you an idea of what other information is included, and what other objects you can investigate.\n",
        "\n",
        "### Get an On Call Schedule\n",
        "\n",
        "If your escalation policy includes a `schedule_reference`, you can run the next block. If not, skip to the section on **Incidents**."
      ]
    },
    {
      "cell_type": "code",
      "execution_count": null,
      "id": "d97e71f5-245f-449e-b7e0-292ae6a7b001",
      "metadata": {
        "id": "d97e71f5-245f-449e-b7e0-292ae6a7b001"
      },
      "outputs": [],
      "source": [
        "# find a schedule in the escalation_rules\n",
        "rules = my_escalation_policy_object['escalation_rules']\n",
        "\n",
        "for rule in rules:\n",
        "    for target in rule['targets']:\n",
        "        if target['type'] == \"schedule_reference\":\n",
        "            sched_id = target['id']\n",
        "            break\n",
        "sched_id"
      ]
    },
    {
      "cell_type": "markdown",
      "id": "21721f93-108a-4129-84ba-fef7b88f4437",
      "metadata": {
        "id": "21721f93-108a-4129-84ba-fef7b88f4437"
      },
      "source": [
        "Schedules in PagerDuty are reusable objects that can be included in multiple escalation policies. Information in a schedule includes the responders included in the schedule and the rules that govern the way the shifts are created. To get more information about a schedule, we can use the `/schedules/` [endpoint](https://developer.pagerduty.com/api-reference/3f03afb2c84a4-get-a-schedule).\n",
        "\n",
        "If your escalation policy above included a `schedule`, run the next code block:"
      ]
    },
    {
      "cell_type": "code",
      "execution_count": null,
      "id": "fea9df78-f77a-4c90-9b6e-7b693dfae1a4",
      "metadata": {
        "id": "fea9df78-f77a-4c90-9b6e-7b693dfae1a4"
      },
      "outputs": [],
      "source": [
        "schedule = session.rget(f\"/schedules/{sched_id}\")\n",
        "schedule\n"
      ]
    },
    {
      "cell_type": "markdown",
      "id": "cb6b02c5-a15d-4cde-bd87-fc71d7cd2c83",
      "metadata": {
        "id": "cb6b02c5-a15d-4cde-bd87-fc71d7cd2c83"
      },
      "source": [
        "## Incidents\n",
        "\n",
        "Incidents are the main component you'll likely be working with in your PagerDuty account. Events come into PagerDuty, are translated into `alerts`, and many then become `incidents`. Incidents then start the workflows that include `escalation_policies` and `schedules`.\n",
        "\n",
        "You can list, get, and update incidents via the API, as well as manage the alerts assigned to an incident, add responders and subscribers, snooze an incident, and a number of other actions. See the [docs](https://developer.pagerduty.com/api-reference/9d0b4b12e36f9-list-incidents) for more details.\n",
        "\n",
        "We'll look at a few simple operations to give you a feel for the incident object. As with the objects we saw above, the payload of an incident object will be a JSON document, and we'll find a number of other objects referenced within it.\n",
        "\n",
        "To run the next section of the notebook, you should have some incidents in your account. They do not have to be active, but you can create a new incident to work with if you'd like."
      ]
    },
    {
      "cell_type": "code",
      "execution_count": null,
      "id": "2ae96d82-c111-467e-9038-1ffc0e0b3365",
      "metadata": {
        "id": "2ae96d82-c111-467e-9038-1ffc0e0b3365"
      },
      "outputs": [],
      "source": [
        "my_incident = session.rget(\"/incidents?limit=1\")\n",
        "my_incident"
      ]
    },
    {
      "cell_type": "markdown",
      "id": "a1e06f85-45ca-4c46-b442-37de55ed26fd",
      "metadata": {
        "id": "a1e06f85-45ca-4c46-b442-37de55ed26fd"
      },
      "source": [
        "You can see an `incident` is a fairly large object, containing references to a number of other objects. Some of the items to note:\n",
        "\n",
        "* `id`: Every `incident` has an `id` which you can use to access it directly via the API.\n",
        "* `title`, `summary`, and `description`: May be entered by the monitoring software that sent the original alerts, or by the person who created the incident. Will be passed on to responders in their notifications.\n",
        "* `status`: Incidents can be `triggered`, `acknowledged`, or `resolved`.\n",
        "* `service`: The `service` the incident is assigned to. As we saw above, `escalation_policies` are assigned to `services`. It's through the `service` assignment that an `incident` will trigger an `escalation_policy`. An `incident` itself can't trigger the policy, it must be assigned to a `service`.\n",
        "* `assignments`: This is where you can find the responders who have been assigned to an incident, either via the `escalation_policy` or manually. You'll see the `escalation_policy` listed as well, and the `teams` that own the service.\n",
        "* `first_trigger_log_entry` is an interesting item. Each `incident` has a log of actions, like updates, that can be accessed in the web UI in the \"Timeline\" tab. You can see the first log entry here. There is another endpoint for collection the other log entries.\n",
        "* `priority` is another object type. Each `priority` in your account will have an `id` associated with it, because these items are configurable by the account owners.\n"
      ]
    },
    {
      "cell_type": "markdown",
      "id": "5819fec8-e6cb-4dd1-9b95-de7e7bb41ec3",
      "metadata": {
        "id": "5819fec8-e6cb-4dd1-9b95-de7e7bb41ec3"
      },
      "source": [
        "Once you have the `id` of an individual incident, there are a number of other actions you can take.\n",
        "\n",
        "* List all of the alerts associated with an `incident`. If your `service` has alert grouping enabled, there could be many alerts associated with a single `incident`. See more on alert grouping in the [docs](https://support.pagerduty.com/main/docs/alert-grouping).\n",
        "* See the `incident`'s relationship to any Business Services configured on the account. More on Business Services [here](https://support.pagerduty.com/main/docs/business-services).\n",
        "* Create or list `notes` for the `incident`. These are often manually added, and are visible in the web UI in the \"Notes\" box on the right side of the screen. These are useful for documenting what actions were taken to resolve an incident.\n",
        "* Get any related or past `incidents` that might be helpful in resolving the incident.\n",
        "* Create a `status_update` for the incident. Status updates might be sent to a status page, an internal chat, or to subscribers. They are helpful for keeping non-responders informed about what's going on with the `incident`. Check out the [knowledge base page](https://support.pagerduty.com/main/docs/communicate-with-stakeholders#status-update-notification-methods) for more details."
      ]
    },
    {
      "cell_type": "markdown",
      "id": "5a49cb1d-ff98-4835-b4d1-dca7bf82449f",
      "metadata": {
        "id": "5a49cb1d-ff98-4835-b4d1-dca7bf82449f"
      },
      "source": [
        "## Writing to the PagerDuty API\n",
        "\n",
        "So far we've only sent a set of simple `GET` requests to the API, but many folks will want to update objects or create new ones via the API as well. These are also done with the `pagerduty` library, and the data structures will also be in JSON.\n",
        "\n",
        "Each object will have different **required** and **optional** keys in its payload. The [docs](https://developer.pagerduty.com/api-reference/) will help you figure out which pieces have to be included and which can be included if you need them.\n",
        "\n",
        "The API docs also have sample code you can use when creating your requests, so you'll have a guide for creating your payloads."
      ]
    },
    {
      "cell_type": "markdown",
      "id": "6cf1177e-9dac-4f8c-a9f8-32e17bc6bb0b",
      "metadata": {
        "id": "6cf1177e-9dac-4f8c-a9f8-32e17bc6bb0b"
      },
      "source": [
        "## Example: Create a New Service\n",
        "\n",
        "You can run the following cells to create a new service on your PagerDuty account to get a feel for how the requests work. We'll use the components from the original service to help us bootstrap the payload for this request.\n",
        "\n",
        "There are two methods each for `PUT`s and `POST`s from the `pagerduty` library, similar to the `GET` methods, for creating fully wrapped objects to send to the API. I'll use `rpost` here, but you can check the docs for how to use `post`."
      ]
    },
    {
      "cell_type": "code",
      "execution_count": null,
      "id": "b233c01f-b0ad-4b89-b120-64c658635617",
      "metadata": {
        "id": "b233c01f-b0ad-4b89-b120-64c658635617"
      },
      "outputs": [],
      "source": [
        "payload = {\n",
        "    \"service\": {\n",
        "        \"type\": \"service\",\n",
        "        \"name\": \"Test Service from Jupyter Notebook\",\n",
        "        \"description\": \"My cool web application that does things.\",\n",
        "        \"auto_resolve_timeout\": 14400,\n",
        "        \"acknowledgement_timeout\": 600,\n",
        "        \"status\": \"active\",\n",
        "        \"escalation_policy\": {\n",
        "            \"id\": f\"{my_escalation_policy_id}\",\n",
        "            \"type\": \"escalation_policy_reference\"\n",
        "        }\n",
        "    }\n",
        "}\n",
        "payload\n"
      ]
    },
    {
      "cell_type": "markdown",
      "id": "f0ed6fcf-2ed5-4cb2-b330-bbae5c7f649c",
      "metadata": {
        "id": "f0ed6fcf-2ed5-4cb2-b330-bbae5c7f649c"
      },
      "source": [
        "Now we have the payload, we'll create the request:"
      ]
    },
    {
      "cell_type": "code",
      "execution_count": null,
      "id": "7e4eb9dd-daf1-4dd7-ae56-f2314de373f3",
      "metadata": {
        "id": "7e4eb9dd-daf1-4dd7-ae56-f2314de373f3"
      },
      "outputs": [],
      "source": [
        "response = session.rpost('services', json=payload)\n",
        "response"
      ]
    },
    {
      "cell_type": "markdown",
      "id": "c2ef45fc-e779-4998-8a09-cb4e9fe50799",
      "metadata": {
        "id": "c2ef45fc-e779-4998-8a09-cb4e9fe50799"
      },
      "source": [
        "That's all there is to it! You've created a service.\n",
        "\n",
        "If you'd like to delete it, run the following cell:"
      ]
    },
    {
      "cell_type": "code",
      "source": [
        "new_service_id = response['id']\n",
        "delete_response = session.delete(f\"/services/{new_service_id}\")\n",
        "delete_response"
      ],
      "metadata": {
        "id": "xh3sj3xcassZ"
      },
      "id": "xh3sj3xcassZ",
      "execution_count": null,
      "outputs": []
    },
    {
      "cell_type": "markdown",
      "id": "05e83652-2bd2-4712-a810-768d604a68f6",
      "metadata": {
        "id": "05e83652-2bd2-4712-a810-768d604a68f6"
      },
      "source": [
        "## Other Things to Look Out For\n",
        "\n",
        "### Pagination\n",
        "When you've been using PagerDuty for a while, you'll collect a large number of some objects, especially incidents, but also maybe services and other components, if your organization is large. There are limits to how many objects can be returned at a time, so many of the endpoints in the PagerDuty REST API support pagination.\n",
        "\n",
        "<div class=\"alert alert-block alert-info\">\n",
        "By default, responses are batched into sets of 25 results. You can change that up to 100.\n",
        "\n",
        "With pagination, the full response set is limited to 10000 records. If you have a set that results in more than 10000 records, you'll want to take a look at filtering those results or talk to the Support team, who may be able to get a larger data dump for you.\n",
        "</div>\n",
        "\n",
        "Some endpoints will have pagination anchors returned in their response payloads. You will see `limit`, `offset`, `more`, and `total` included in these responses.\n",
        "\n",
        "Other endpoints support cursor based pagination. Instead of the four page anchors, you'll see `limit` and `next_cursor` in the response.\n",
        "\n",
        "The `pagerduty` Python library also includes iterators to help you traverse a full set of records, including `iter_all` and `list_all` methods.\n",
        "\n",
        "See the [pagination documentation](https://developer.pagerduty.com/docs/pagination) for more on using pagination.\n",
        "\n",
        "### Filtering\n",
        "Some endpoints support filtering, allowing you to request a subset of the data available. These filters behave more like a `contains` search, and do not support regular expressions. You can access these filter capabilities with the `name` parameter on the objects that support it.\n",
        "\n",
        "Some filters are more explicit and are listed in the documentation for an endpoint. There are a number of endpoints that allow you to filter on the `id`s of one or more objects, like a team or user. These filters will have brackets in their parameter names, which can be confusing.\n",
        "\n",
        "```\n",
        "team_services = session.rget('services', params={'team_ids[]: [\"teamID\"]'})\n",
        "```"
      ]
    },
    {
      "cell_type": "markdown",
      "id": "f195688d-51c3-483a-830d-c719e4cec936",
      "metadata": {
        "id": "f195688d-51c3-483a-830d-c719e4cec936"
      },
      "source": [
        "## Learn More\n",
        "\n",
        "* API [Documentation](https://developer.pagerduty.com/docs/introduction)\n",
        "* REST API [Endpoint References](https://developer.pagerduty.com/api-reference/f1a95bb9397ba-changelog)\n",
        "* [Support Knowledge Base](https://support.pagerduty.com)\n",
        "* [User Guide](https://pagerduty.github.io/python-pagerduty/user_guide.html) for the `pagerduty` Python package\n",
        "* Join the [PagerDuty Commons](https://community.pagerduty.com) community"
      ]
    },
    {
      "cell_type": "code",
      "execution_count": null,
      "id": "91a1e212-1dd5-4c30-a108-1052acbadc91",
      "metadata": {
        "id": "91a1e212-1dd5-4c30-a108-1052acbadc91"
      },
      "outputs": [],
      "source": []
    }
  ],
  "metadata": {
    "kernelspec": {
      "display_name": "Python 3 (ipykernel)",
      "language": "python",
      "name": "python3"
    },
    "language_info": {
      "codemirror_mode": {
        "name": "ipython",
        "version": 3
      },
      "file_extension": ".py",
      "mimetype": "text/x-python",
      "name": "python",
      "nbconvert_exporter": "python",
      "pygments_lexer": "ipython3",
      "version": "3.13.5"
    },
    "colab": {
      "provenance": []
    }
  },
  "nbformat": 4,
  "nbformat_minor": 5
}